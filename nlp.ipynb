{
 "cells": [
  {
   "cell_type": "code",
   "execution_count": 1,
   "metadata": {},
   "outputs": [],
   "source": [
    "import pandas as pd\n",
    "import numpy as np\n",
    "import spacy\n",
    "#from spacy import displacy\n",
    "from spacy.lang.pt import Portuguese\n"
   ]
  },
  {
   "cell_type": "code",
   "execution_count": 2,
   "metadata": {},
   "outputs": [
    {
     "data": {
      "text/html": [
       "<div>\n",
       "<style scoped>\n",
       "    .dataframe tbody tr th:only-of-type {\n",
       "        vertical-align: middle;\n",
       "    }\n",
       "\n",
       "    .dataframe tbody tr th {\n",
       "        vertical-align: top;\n",
       "    }\n",
       "\n",
       "    .dataframe thead th {\n",
       "        text-align: right;\n",
       "    }\n",
       "</style>\n",
       "<table border=\"1\" class=\"dataframe\">\n",
       "  <thead>\n",
       "    <tr style=\"text-align: right;\">\n",
       "      <th></th>\n",
       "      <th>speaker</th>\n",
       "      <th>partido</th>\n",
       "      <th>speech</th>\n",
       "      <th>filename</th>\n",
       "    </tr>\n",
       "  </thead>\n",
       "  <tbody>\n",
       "    <tr>\n",
       "      <th>0</th>\n",
       "      <td>Ana Mesquita</td>\n",
       "      <td>PCP</td>\n",
       "      <td>Sr. Presidente, Sr.as Deputadas e Srs. Deputad...</td>\n",
       "      <td>darl13sl03n050.txt</td>\n",
       "    </tr>\n",
       "    <tr>\n",
       "      <th>1</th>\n",
       "      <td>Ana Mesquita</td>\n",
       "      <td>PCP</td>\n",
       "      <td>A esmagadora maioria da população aprendeu a n...</td>\n",
       "      <td>darl13sl03n050.txt</td>\n",
       "    </tr>\n",
       "    <tr>\n",
       "      <th>2</th>\n",
       "      <td>Ana Mesquita</td>\n",
       "      <td>PCP</td>\n",
       "      <td>Já houve um, na Legislatura anterior!</td>\n",
       "      <td>darl13sl03n050.txt</td>\n",
       "    </tr>\n",
       "    <tr>\n",
       "      <th>3</th>\n",
       "      <td>Ana Mesquita</td>\n",
       "      <td>PCP</td>\n",
       "      <td>Esse argumento é falso!</td>\n",
       "      <td>darl13sl03n050.txt</td>\n",
       "    </tr>\n",
       "    <tr>\n",
       "      <th>4</th>\n",
       "      <td>João Oliveira</td>\n",
       "      <td>PCP</td>\n",
       "      <td>Exatamente!</td>\n",
       "      <td>darl13sl03n050.txt</td>\n",
       "    </tr>\n",
       "    <tr>\n",
       "      <th>...</th>\n",
       "      <td>...</td>\n",
       "      <td>...</td>\n",
       "      <td>...</td>\n",
       "      <td>...</td>\n",
       "    </tr>\n",
       "    <tr>\n",
       "      <th>92233</th>\n",
       "      <td>Carla Cruz</td>\n",
       "      <td>PCP</td>\n",
       "      <td>Sr. Presidente, Srs. Deputados: Só há melhor s...</td>\n",
       "      <td>darl13sl03n058.txt</td>\n",
       "    </tr>\n",
       "    <tr>\n",
       "      <th>92234</th>\n",
       "      <td>Carla Cruz</td>\n",
       "      <td>PCP</td>\n",
       "      <td>É verdade!</td>\n",
       "      <td>darl13sl03n058.txt</td>\n",
       "    </tr>\n",
       "    <tr>\n",
       "      <th>92235</th>\n",
       "      <td>Carla Cruz</td>\n",
       "      <td>PCP</td>\n",
       "      <td>Sr. Presidente, Srs. Deputados: O CDS e o PSD ...</td>\n",
       "      <td>darl13sl03n058.txt</td>\n",
       "    </tr>\n",
       "    <tr>\n",
       "      <th>92236</th>\n",
       "      <td>Carla Cruz</td>\n",
       "      <td>PCP</td>\n",
       "      <td>Foi essa a política que fizeram ao longo do vo...</td>\n",
       "      <td>darl13sl03n058.txt</td>\n",
       "    </tr>\n",
       "    <tr>\n",
       "      <th>92237</th>\n",
       "      <td>Carla Cruz</td>\n",
       "      <td>PCP</td>\n",
       "      <td>Aquilo que é importante para o Partido Sociali...</td>\n",
       "      <td>darl13sl03n058.txt</td>\n",
       "    </tr>\n",
       "  </tbody>\n",
       "</table>\n",
       "<p>92238 rows × 4 columns</p>\n",
       "</div>"
      ],
      "text/plain": [
       "             speaker partido  \\\n",
       "0       Ana Mesquita     PCP   \n",
       "1       Ana Mesquita     PCP   \n",
       "2       Ana Mesquita     PCP   \n",
       "3       Ana Mesquita     PCP   \n",
       "4      João Oliveira     PCP   \n",
       "...              ...     ...   \n",
       "92233     Carla Cruz     PCP   \n",
       "92234     Carla Cruz     PCP   \n",
       "92235     Carla Cruz     PCP   \n",
       "92236     Carla Cruz     PCP   \n",
       "92237     Carla Cruz     PCP   \n",
       "\n",
       "                                                  speech            filename  \n",
       "0      Sr. Presidente, Sr.as Deputadas e Srs. Deputad...  darl13sl03n050.txt  \n",
       "1      A esmagadora maioria da população aprendeu a n...  darl13sl03n050.txt  \n",
       "2                 Já houve um, na Legislatura anterior!   darl13sl03n050.txt  \n",
       "3                               Esse argumento é falso!   darl13sl03n050.txt  \n",
       "4                                           Exatamente!   darl13sl03n050.txt  \n",
       "...                                                  ...                 ...  \n",
       "92233  Sr. Presidente, Srs. Deputados: Só há melhor s...  darl13sl03n058.txt  \n",
       "92234                                        É verdade!   darl13sl03n058.txt  \n",
       "92235  Sr. Presidente, Srs. Deputados: O CDS e o PSD ...  darl13sl03n058.txt  \n",
       "92236  Foi essa a política que fizeram ao longo do vo...  darl13sl03n058.txt  \n",
       "92237  Aquilo que é importante para o Partido Sociali...  darl13sl03n058.txt  \n",
       "\n",
       "[92238 rows x 4 columns]"
      ]
     },
     "execution_count": 2,
     "metadata": {},
     "output_type": "execute_result"
    }
   ],
   "source": [
    "declaracoes = pd.read_csv(\"so-partidos.csv\")\n",
    "#declaracoes[\"no_punct\"] = declaracoes[\"speech\"].str.replace('[^\\w\\s]','')\n",
    "declaracoes"
   ]
  },
  {
   "cell_type": "code",
   "execution_count": 3,
   "metadata": {},
   "outputs": [],
   "source": [
    "# Criar o objeto nlp\n",
    "nlp = spacy.load(\"pt_core_news_lg\")"
   ]
  },
  {
   "cell_type": "code",
   "execution_count": 4,
   "metadata": {},
   "outputs": [
    {
     "name": "stderr",
     "output_type": "stream",
     "text": [
      "/tmp/ipykernel_48069/2237078583.py:9: DeprecationWarning: [W107] The property `Doc.is_parsed` is deprecated. Use `Doc.has_annotation(\"DEP\")` instead.\n",
      "  if doc.is_parsed:\n"
     ]
    }
   ],
   "source": [
    "tokens = []\n",
    "lemma = []\n",
    "#pos = []\n",
    "entities = []\n",
    "\n",
    "#isto leva um bocado a correr (no meu pc, levou meia hora)\n",
    "\n",
    "for doc in nlp.pipe(declaracoes['speech'].astype('unicode').values, batch_size=1):\n",
    "    if doc.is_parsed:\n",
    "        tokens.append([n.text for n in doc])\n",
    "        lemma.append([n.lemma_ for n in doc])\n",
    "        #pos.append([n.pos_ for n in doc])\n",
    "        entities.append([(n, n.label_, n.label) for n in doc.ents])\n",
    "    else:\n",
    "        # We want to make sure that the lists of parsed results have the\n",
    "        # same number of entries of the original Dataframe, so add some blanks in case the parse fails\n",
    "        tokens.append(None)\n",
    "        lemma.append(None)\n",
    "        #pos.append(None)\n",
    "        entities.append(None)\n",
    "\n",
    "declaracoes['tokens'] = tokens\n",
    "declaracoes['lemma'] = lemma\n",
    "#declaracoes['pos'] = pos\n",
    "declaracoes['entities'] = entities\n"
   ]
  },
  {
   "cell_type": "code",
   "execution_count": 5,
   "metadata": {},
   "outputs": [],
   "source": [
    "declaracoes.to_csv(\"declaracoes-nlp-new.csv\", index=False)"
   ]
  }
 ],
 "metadata": {
  "interpreter": {
   "hash": "e152dfdee28af8a479f12678d905829ccdbbe8fcec57885e1fc64b78cf4fda49"
  },
  "kernelspec": {
   "display_name": "Python 3.8.11 64-bit ('base': conda)",
   "language": "python",
   "name": "python3"
  },
  "language_info": {
   "codemirror_mode": {
    "name": "ipython",
    "version": 3
   },
   "file_extension": ".py",
   "mimetype": "text/x-python",
   "name": "python",
   "nbconvert_exporter": "python",
   "pygments_lexer": "ipython3",
   "version": "3.8.11"
  },
  "orig_nbformat": 4
 },
 "nbformat": 4,
 "nbformat_minor": 2
}
