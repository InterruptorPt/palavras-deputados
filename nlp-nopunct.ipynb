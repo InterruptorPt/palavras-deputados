{
 "cells": [
  {
   "cell_type": "code",
   "execution_count": 1,
   "metadata": {},
   "outputs": [],
   "source": [
    "import pandas as pd\n",
    "import numpy as np\n",
    "import spacy\n",
    "#from spacy import displacy\n",
    "from spacy.lang.pt import Portuguese\n"
   ]
  },
  {
   "cell_type": "code",
   "execution_count": 2,
   "metadata": {},
   "outputs": [
    {
     "name": "stderr",
     "output_type": "stream",
     "text": [
      "/tmp/ipykernel_27260/1649535475.py:2: FutureWarning: The default value of regex will change from True to False in a future version.\n",
      "  declaracoes2[\"no_punct\"] = declaracoes2[\"speech\"].str.replace('[^\\w\\s]','')\n"
     ]
    }
   ],
   "source": [
    "declaracoes2 = pd.read_csv(\"so-partidos.csv\")\n",
    "declaracoes2[\"no_punct\"] = declaracoes2[\"speech\"].str.replace('[^\\w\\s]','')\n",
    "declaracoes2[\"no_punct\"] = declaracoes2[\"no_punct\"].str.lower()\n",
    "\n",
    "nlp = spacy.load(\"pt_core_news_lg\")"
   ]
  },
  {
   "cell_type": "code",
   "execution_count": 3,
   "metadata": {},
   "outputs": [
    {
     "name": "stderr",
     "output_type": "stream",
     "text": [
      "/tmp/ipykernel_27260/900245696.py:10: DeprecationWarning: [W107] The property `Doc.is_parsed` is deprecated. Use `Doc.has_annotation(\"DEP\")` instead.\n",
      "  if doc.is_parsed:\n"
     ]
    }
   ],
   "source": [
    "tokens2 = []\n",
    "lemma2 = []\n",
    "#pos2 = []\n",
    "entities2 = []\n",
    "\n",
    "\n",
    "#isto leva um bocado a correr (no meu pc, levou meia hora)\n",
    "\n",
    "for doc in nlp.pipe(declaracoes2['no_punct'].astype('unicode').values, batch_size=1):\n",
    "    if doc.is_parsed:\n",
    "        tokens2.append([n.text for n in doc])\n",
    "        lemma2.append([n.lemma_ for n in doc])\n",
    "        #pos2.append([n.pos_ for n in doc])\n",
    "        entities2.append([(n, n.label_, n.label) for n in doc.ents])\n",
    "    else:\n",
    "        # We want to make sure that the lists of parsed results have the\n",
    "        # same number of entries of the original Dataframe, so add some blanks in case the parse fails\n",
    "        tokens2.append(None)\n",
    "        lemma2.append(None)\n",
    "        #pos2.append(None)\n",
    "        entities2.append(None)\n",
    "\n",
    "declaracoes2['tokens'] = tokens2\n",
    "declaracoes2['lemma'] = lemma2\n",
    "#declaracoes2['pos'] = pos\n",
    "declaracoes2['entities'] = entities2\n",
    "declaracoes2.to_csv(\"declaracoes-nlp-no-punct.csv\", index=False)"
   ]
  }
 ],
 "metadata": {
  "interpreter": {
   "hash": "e152dfdee28af8a479f12678d905829ccdbbe8fcec57885e1fc64b78cf4fda49"
  },
  "kernelspec": {
   "display_name": "Python 3.8.11 64-bit ('base': conda)",
   "language": "python",
   "name": "python3"
  },
  "language_info": {
   "codemirror_mode": {
    "name": "ipython",
    "version": 3
   },
   "file_extension": ".py",
   "mimetype": "text/x-python",
   "name": "python",
   "nbconvert_exporter": "python",
   "pygments_lexer": "ipython3",
   "version": "3.8.11"
  },
  "orig_nbformat": 4
 },
 "nbformat": 4,
 "nbformat_minor": 2
}
