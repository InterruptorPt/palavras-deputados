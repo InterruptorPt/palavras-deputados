{
 "cells": [
  {
   "cell_type": "code",
   "execution_count": 42,
   "metadata": {},
   "outputs": [],
   "source": [
    "import os\n",
    "import glob\n",
    "import pandas as pd\n",
    "import re"
   ]
  },
  {
   "cell_type": "code",
   "execution_count": 47,
   "metadata": {},
   "outputs": [],
   "source": [
    "conjunto_dados = pd.DataFrame()\n",
    "\n",
    "SPEAKER_REGEX = re.compile(r'[A|O] Sr\\.ª?( [\\w\\-,]+)+([\\-\\w]+)?( \\([\\w\\s\\-]+\\))*(?=:)')\n",
    "MULTILINE_SPEAKER_REGEX = re.compile(\"^\" + SPEAKER_REGEX.pattern, flags=re.M) \n",
    "\n",
    "for file in os.scandir(\"./discursos\"):\n",
    "    speech_by_speaker = []\n",
    "\n",
    "    with open(file) as fp:\n",
    "        content = fp.read()\n",
    "\n",
    "        #1) remover datas espalhadas, páginas e afins espalhadas pelos documentos (por causa da coversao PDF para TXT)\n",
    "\n",
    "        datas_texto = re.compile(\"\\d{1,2} [A-Z]+ [A-Z]+ [A-Z]+ \\d{4} (\\n\\n\\d+)?\")\n",
    "        datas_texto.sub(\" \", content)\n",
    "\n",
    "        series_numeros = re.compile(\"[A-Z]+ SÉRIE \\W NÚMERO \\d+ (\\n+\\d+)?\")\n",
    "        series_numeros.sub(\" \", content)\n",
    "\n",
    "        #2) criar dicionario de intervencoes para criar dataframe\n",
    "\n",
    "        #2.1) identificar os intervenientes e intervencoes correspondentes\n",
    "\n",
    "        deputadxs = MULTILINE_SPEAKER_REGEX.finditer(content) \n",
    "        deputadxs = [match.group() for match in deputadxs]\n",
    "        deputadxs = list(set(deputadxs))\n",
    "\n",
    "        #deputadxs = [deputadxs[5]]\n",
    "        #print(deputadxs)\n",
    "\n",
    "        content_on_one_line = ''.join(content.splitlines())\n",
    "\n",
    "        for speaker in deputadxs:\n",
    "            content_split_by_speaker = content_on_one_line.split(speaker + ':')\n",
    "            # Get rid of everything before they speak\n",
    "            content_split_by_speaker.pop(0)\n",
    "\n",
    "            # what_they_say = [speech for speech in speaker_regex]\n",
    "            # for each line in content_split_by_speaker\n",
    "            # use the speaker regex to find the next speaker and get everything before that\n",
    "            for line in content_split_by_speaker:\n",
    "                start_of_next_speaker = SPEAKER_REGEX.finditer(line)\n",
    "\n",
    "                # either an index or None\n",
    "                # if it's None, either:\n",
    "                # - the regex isn't accurate enough; or\n",
    "                # - the speaker is the only person to speak]\n",
    "                next_speaker_indexes = [match.start() for match in start_of_next_speaker]\n",
    "                next_speaker_index = next_speaker_indexes[0] if len(next_speaker_indexes) > 0 else None\n",
    "\n",
    "                speech = line[0:next_speaker_index] if next_speaker_index is not None else line\n",
    "                speech_by_speaker.append((speaker, speech))\n",
    "\n",
    "                # if \"):\" in speech:\n",
    "                #     print(speech)\n",
    "        \n",
    "        df = pd.DataFrame.from_records(speech_by_speaker, columns=[\"speaker\", \"speech\"])#.reset_index()\n",
    "        df['filename'] = os.path.basename(file)\n",
    "        #print(df)\n",
    "                \n",
    "        conjunto_dados = pd.concat([conjunto_dados, df])\n",
    "            \n",
    "conjunto_dados.to_csv(\"deputados.csv\")#, index=False)\n",
    "    "
   ]
  }
 ],
 "metadata": {
  "interpreter": {
   "hash": "e152dfdee28af8a479f12678d905829ccdbbe8fcec57885e1fc64b78cf4fda49"
  },
  "kernelspec": {
   "display_name": "Python 3.8.11 64-bit ('base': conda)",
   "language": "python",
   "name": "python3"
  },
  "language_info": {
   "codemirror_mode": {
    "name": "ipython",
    "version": 3
   },
   "file_extension": ".py",
   "mimetype": "text/x-python",
   "name": "python",
   "nbconvert_exporter": "python",
   "pygments_lexer": "ipython3",
   "version": "3.8.11"
  },
  "orig_nbformat": 4
 },
 "nbformat": 4,
 "nbformat_minor": 2
}
